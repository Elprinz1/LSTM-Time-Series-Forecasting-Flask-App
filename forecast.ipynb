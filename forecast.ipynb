{
 "cells": [
  {
   "cell_type": "code",
   "execution_count": 706,
   "metadata": {},
   "outputs": [],
   "source": [
    "import pandas as pd\n",
    "import numpy as np\n",
    "import matplotlib.pyplot as plt\n",
    "import datetime as dt\n",
    "from copy import deepcopy as dc\n",
    "import pickle\n",
    "\n",
    "import torch\n",
    "import torch.nn as nn\n",
    "from  torch.utils.data import DataLoader, Dataset\n",
    "from sklearn.preprocessing import MinMaxScaler\n",
    "from sklearn.model_selection import train_test_split\n",
    "\n",
    "import yfinance as  yf  # pip install yfinance\n",
    "\n",
    "\n",
    "#set plot style\n",
    "plt.rcParams.update({\n",
    "    'axes.spines.top': False,\n",
    "    'axes.spines.right': False,\n",
    "    'figure.facecolor': 'white',\n",
    "    'axes.facecolor': 'lightblue',\n",
    "    'legend.loc': 'upper left'\n",
    "})"
   ]
  },
  {
   "cell_type": "markdown",
   "metadata": {},
   "source": [
    "### Load data - Amazon stock price using yfinance"
   ]
  },
  {
   "cell_type": "code",
   "execution_count": 707,
   "metadata": {},
   "outputs": [
    {
     "name": "stderr",
     "output_type": "stream",
     "text": [
      "[*********************100%%**********************]  1 of 1 completed\n"
     ]
    },
    {
     "data": {
      "text/html": [
       "<div>\n",
       "<style scoped>\n",
       "    .dataframe tbody tr th:only-of-type {\n",
       "        vertical-align: middle;\n",
       "    }\n",
       "\n",
       "    .dataframe tbody tr th {\n",
       "        vertical-align: top;\n",
       "    }\n",
       "\n",
       "    .dataframe thead th {\n",
       "        text-align: right;\n",
       "    }\n",
       "</style>\n",
       "<table border=\"1\" class=\"dataframe\">\n",
       "  <thead>\n",
       "    <tr style=\"text-align: right;\">\n",
       "      <th></th>\n",
       "      <th>Open</th>\n",
       "      <th>High</th>\n",
       "      <th>Low</th>\n",
       "      <th>Close</th>\n",
       "      <th>Adj Close</th>\n",
       "      <th>Volume</th>\n",
       "    </tr>\n",
       "    <tr>\n",
       "      <th>Date</th>\n",
       "      <th></th>\n",
       "      <th></th>\n",
       "      <th></th>\n",
       "      <th></th>\n",
       "      <th></th>\n",
       "      <th></th>\n",
       "    </tr>\n",
       "  </thead>\n",
       "  <tbody>\n",
       "    <tr>\n",
       "      <th>1997-05-15</th>\n",
       "      <td>0.121875</td>\n",
       "      <td>0.125000</td>\n",
       "      <td>0.096354</td>\n",
       "      <td>0.097917</td>\n",
       "      <td>0.097917</td>\n",
       "      <td>1443120000</td>\n",
       "    </tr>\n",
       "    <tr>\n",
       "      <th>1997-05-16</th>\n",
       "      <td>0.098438</td>\n",
       "      <td>0.098958</td>\n",
       "      <td>0.085417</td>\n",
       "      <td>0.086458</td>\n",
       "      <td>0.086458</td>\n",
       "      <td>294000000</td>\n",
       "    </tr>\n",
       "    <tr>\n",
       "      <th>1997-05-19</th>\n",
       "      <td>0.088021</td>\n",
       "      <td>0.088542</td>\n",
       "      <td>0.081250</td>\n",
       "      <td>0.085417</td>\n",
       "      <td>0.085417</td>\n",
       "      <td>122136000</td>\n",
       "    </tr>\n",
       "    <tr>\n",
       "      <th>1997-05-20</th>\n",
       "      <td>0.086458</td>\n",
       "      <td>0.087500</td>\n",
       "      <td>0.081771</td>\n",
       "      <td>0.081771</td>\n",
       "      <td>0.081771</td>\n",
       "      <td>109344000</td>\n",
       "    </tr>\n",
       "    <tr>\n",
       "      <th>1997-05-21</th>\n",
       "      <td>0.081771</td>\n",
       "      <td>0.082292</td>\n",
       "      <td>0.068750</td>\n",
       "      <td>0.071354</td>\n",
       "      <td>0.071354</td>\n",
       "      <td>377064000</td>\n",
       "    </tr>\n",
       "    <tr>\n",
       "      <th>...</th>\n",
       "      <td>...</td>\n",
       "      <td>...</td>\n",
       "      <td>...</td>\n",
       "      <td>...</td>\n",
       "      <td>...</td>\n",
       "      <td>...</td>\n",
       "    </tr>\n",
       "    <tr>\n",
       "      <th>2024-08-05</th>\n",
       "      <td>154.210007</td>\n",
       "      <td>162.960007</td>\n",
       "      <td>151.610001</td>\n",
       "      <td>161.020004</td>\n",
       "      <td>161.020004</td>\n",
       "      <td>83149400</td>\n",
       "    </tr>\n",
       "    <tr>\n",
       "      <th>2024-08-06</th>\n",
       "      <td>161.710007</td>\n",
       "      <td>165.080002</td>\n",
       "      <td>158.539993</td>\n",
       "      <td>161.929993</td>\n",
       "      <td>161.929993</td>\n",
       "      <td>59950800</td>\n",
       "    </tr>\n",
       "    <tr>\n",
       "      <th>2024-08-07</th>\n",
       "      <td>166.550003</td>\n",
       "      <td>167.580002</td>\n",
       "      <td>161.429993</td>\n",
       "      <td>162.770004</td>\n",
       "      <td>162.770004</td>\n",
       "      <td>48408200</td>\n",
       "    </tr>\n",
       "    <tr>\n",
       "      <th>2024-08-08</th>\n",
       "      <td>165.169998</td>\n",
       "      <td>166.690002</td>\n",
       "      <td>162.550003</td>\n",
       "      <td>165.800003</td>\n",
       "      <td>165.800003</td>\n",
       "      <td>44616200</td>\n",
       "    </tr>\n",
       "    <tr>\n",
       "      <th>2024-08-09</th>\n",
       "      <td>166.399994</td>\n",
       "      <td>168.550003</td>\n",
       "      <td>165.850006</td>\n",
       "      <td>166.940002</td>\n",
       "      <td>166.940002</td>\n",
       "      <td>35758700</td>\n",
       "    </tr>\n",
       "  </tbody>\n",
       "</table>\n",
       "<p>6854 rows × 6 columns</p>\n",
       "</div>"
      ],
      "text/plain": [
       "                  Open        High         Low       Close   Adj Close  \\\n",
       "Date                                                                     \n",
       "1997-05-15    0.121875    0.125000    0.096354    0.097917    0.097917   \n",
       "1997-05-16    0.098438    0.098958    0.085417    0.086458    0.086458   \n",
       "1997-05-19    0.088021    0.088542    0.081250    0.085417    0.085417   \n",
       "1997-05-20    0.086458    0.087500    0.081771    0.081771    0.081771   \n",
       "1997-05-21    0.081771    0.082292    0.068750    0.071354    0.071354   \n",
       "...                ...         ...         ...         ...         ...   \n",
       "2024-08-05  154.210007  162.960007  151.610001  161.020004  161.020004   \n",
       "2024-08-06  161.710007  165.080002  158.539993  161.929993  161.929993   \n",
       "2024-08-07  166.550003  167.580002  161.429993  162.770004  162.770004   \n",
       "2024-08-08  165.169998  166.690002  162.550003  165.800003  165.800003   \n",
       "2024-08-09  166.399994  168.550003  165.850006  166.940002  166.940002   \n",
       "\n",
       "                Volume  \n",
       "Date                    \n",
       "1997-05-15  1443120000  \n",
       "1997-05-16   294000000  \n",
       "1997-05-19   122136000  \n",
       "1997-05-20   109344000  \n",
       "1997-05-21   377064000  \n",
       "...                ...  \n",
       "2024-08-05    83149400  \n",
       "2024-08-06    59950800  \n",
       "2024-08-07    48408200  \n",
       "2024-08-08    44616200  \n",
       "2024-08-09    35758700  \n",
       "\n",
       "[6854 rows x 6 columns]"
      ]
     },
     "execution_count": 707,
     "metadata": {},
     "output_type": "execute_result"
    }
   ],
   "source": [
    "data = yf.download('AMZN', start='1997-01-01', end=dt.datetime.now())\n",
    "data"
   ]
  },
  {
   "cell_type": "code",
   "execution_count": 708,
   "metadata": {},
   "outputs": [
    {
     "data": {
      "text/html": [
       "<div>\n",
       "<style scoped>\n",
       "    .dataframe tbody tr th:only-of-type {\n",
       "        vertical-align: middle;\n",
       "    }\n",
       "\n",
       "    .dataframe tbody tr th {\n",
       "        vertical-align: top;\n",
       "    }\n",
       "\n",
       "    .dataframe thead th {\n",
       "        text-align: right;\n",
       "    }\n",
       "</style>\n",
       "<table border=\"1\" class=\"dataframe\">\n",
       "  <thead>\n",
       "    <tr style=\"text-align: right;\">\n",
       "      <th></th>\n",
       "      <th>Close</th>\n",
       "    </tr>\n",
       "    <tr>\n",
       "      <th>Date</th>\n",
       "      <th></th>\n",
       "    </tr>\n",
       "  </thead>\n",
       "  <tbody>\n",
       "    <tr>\n",
       "      <th>1997-05-15</th>\n",
       "      <td>0.097917</td>\n",
       "    </tr>\n",
       "    <tr>\n",
       "      <th>1997-05-16</th>\n",
       "      <td>0.086458</td>\n",
       "    </tr>\n",
       "    <tr>\n",
       "      <th>1997-05-19</th>\n",
       "      <td>0.085417</td>\n",
       "    </tr>\n",
       "    <tr>\n",
       "      <th>1997-05-20</th>\n",
       "      <td>0.081771</td>\n",
       "    </tr>\n",
       "    <tr>\n",
       "      <th>1997-05-21</th>\n",
       "      <td>0.071354</td>\n",
       "    </tr>\n",
       "  </tbody>\n",
       "</table>\n",
       "</div>"
      ],
      "text/plain": [
       "               Close\n",
       "Date                \n",
       "1997-05-15  0.097917\n",
       "1997-05-16  0.086458\n",
       "1997-05-19  0.085417\n",
       "1997-05-20  0.081771\n",
       "1997-05-21  0.071354"
      ]
     },
     "execution_count": 708,
     "metadata": {},
     "output_type": "execute_result"
    }
   ],
   "source": [
    "data = data[['Close']]\n",
    "data.head()"
   ]
  },
  {
   "cell_type": "code",
   "execution_count": 709,
   "metadata": {},
   "outputs": [
    {
     "data": {
      "text/plain": [
       "'cpu'"
      ]
     },
     "execution_count": 709,
     "metadata": {},
     "output_type": "execute_result"
    }
   ],
   "source": [
    "device = torch.device('cuda' if torch.cuda.is_available() else 'cpu')\n",
    "device = 'cuda:0' if torch.cuda.is_available() else 'cpu'\n",
    "device"
   ]
  },
  {
   "cell_type": "code",
   "execution_count": 710,
   "metadata": {},
   "outputs": [
    {
     "data": {
      "image/png": "[encoded data removed]",
      "text/plain": [
       "<Figure size 1200x600 with 1 Axes>"
      ]
     },
     "metadata": {},
     "output_type": "display_data"
    }
   ],
   "source": [
    "# Data Visualization\n",
    "plt.figure(figsize=(12,6))\n",
    "plt.title('Amazon stock price')\n",
    "plt.xlabel('Date')\n",
    "plt.ylabel('Close Price')\n",
    "plt.plot(data['Close'])\n",
    "plt.show()\n"
   ]
  },
  {
   "cell_type": "markdown",
   "metadata": {},
   "source": [
    "### Data Preprocessing"
   ]
  },
  {
   "cell_type": "code",
   "execution_count": 711,
   "metadata": {},
   "outputs": [
    {
     "data": {
      "text/html": [
       "<div>\n",
       "<style scoped>\n",
       "    .dataframe tbody tr th:only-of-type {\n",
       "        vertical-align: middle;\n",
       "    }\n",
       "\n",
       "    .dataframe tbody tr th {\n",
       "        vertical-align: top;\n",
       "    }\n",
       "\n",
       "    .dataframe thead th {\n",
       "        text-align: right;\n",
       "    }\n",
       "</style>\n",
       "<table border=\"1\" class=\"dataframe\">\n",
       "  <thead>\n",
       "    <tr style=\"text-align: right;\">\n",
       "      <th></th>\n",
       "      <th>Close</th>\n",
       "      <th>Close_t-1</th>\n",
       "      <th>Close_t-2</th>\n",
       "      <th>Close_t-3</th>\n",
       "      <th>Close_t-4</th>\n",
       "      <th>Close_t-5</th>\n",
       "      <th>Close_t-6</th>\n",
       "      <th>Close_t-7</th>\n",
       "      <th>Close_t-8</th>\n",
       "      <th>Close_t-9</th>\n",
       "      <th>Close_t-10</th>\n",
       "      <th>Close_t-11</th>\n",
       "      <th>Close_t-12</th>\n",
       "      <th>Close_t-13</th>\n",
       "      <th>Close_t-14</th>\n",
       "    </tr>\n",
       "    <tr>\n",
       "      <th>Date</th>\n",
       "      <th></th>\n",
       "      <th></th>\n",
       "      <th></th>\n",
       "      <th></th>\n",
       "      <th></th>\n",
       "      <th></th>\n",
       "      <th></th>\n",
       "      <th></th>\n",
       "      <th></th>\n",
       "      <th></th>\n",
       "      <th></th>\n",
       "      <th></th>\n",
       "      <th></th>\n",
       "      <th></th>\n",
       "      <th></th>\n",
       "    </tr>\n",
       "  </thead>\n",
       "  <tbody>\n",
       "    <tr>\n",
       "      <th>1997-06-05</th>\n",
       "      <td>0.077083</td>\n",
       "      <td>0.070833</td>\n",
       "      <td>0.073958</td>\n",
       "      <td>0.075521</td>\n",
       "      <td>0.075000</td>\n",
       "      <td>0.075260</td>\n",
       "      <td>0.076563</td>\n",
       "      <td>0.079167</td>\n",
       "      <td>0.075000</td>\n",
       "      <td>0.069792</td>\n",
       "      <td>0.071354</td>\n",
       "      <td>0.081771</td>\n",
       "      <td>0.085417</td>\n",
       "      <td>0.086458</td>\n",
       "      <td>0.097917</td>\n",
       "    </tr>\n",
       "    <tr>\n",
       "      <th>1997-06-06</th>\n",
       "      <td>0.082813</td>\n",
       "      <td>0.077083</td>\n",
       "      <td>0.070833</td>\n",
       "      <td>0.073958</td>\n",
       "      <td>0.075521</td>\n",
       "      <td>0.075000</td>\n",
       "      <td>0.075260</td>\n",
       "      <td>0.076563</td>\n",
       "      <td>0.079167</td>\n",
       "      <td>0.075000</td>\n",
       "      <td>0.069792</td>\n",
       "      <td>0.071354</td>\n",
       "      <td>0.081771</td>\n",
       "      <td>0.085417</td>\n",
       "      <td>0.086458</td>\n",
       "    </tr>\n",
       "    <tr>\n",
       "      <th>1997-06-09</th>\n",
       "      <td>0.084375</td>\n",
       "      <td>0.082813</td>\n",
       "      <td>0.077083</td>\n",
       "      <td>0.070833</td>\n",
       "      <td>0.073958</td>\n",
       "      <td>0.075521</td>\n",
       "      <td>0.075000</td>\n",
       "      <td>0.075260</td>\n",
       "      <td>0.076563</td>\n",
       "      <td>0.079167</td>\n",
       "      <td>0.075000</td>\n",
       "      <td>0.069792</td>\n",
       "      <td>0.071354</td>\n",
       "      <td>0.081771</td>\n",
       "      <td>0.085417</td>\n",
       "    </tr>\n",
       "    <tr>\n",
       "      <th>1997-06-10</th>\n",
       "      <td>0.079167</td>\n",
       "      <td>0.084375</td>\n",
       "      <td>0.082813</td>\n",
       "      <td>0.077083</td>\n",
       "      <td>0.070833</td>\n",
       "      <td>0.073958</td>\n",
       "      <td>0.075521</td>\n",
       "      <td>0.075000</td>\n",
       "      <td>0.075260</td>\n",
       "      <td>0.076563</td>\n",
       "      <td>0.079167</td>\n",
       "      <td>0.075000</td>\n",
       "      <td>0.069792</td>\n",
       "      <td>0.071354</td>\n",
       "      <td>0.081771</td>\n",
       "    </tr>\n",
       "    <tr>\n",
       "      <th>1997-06-11</th>\n",
       "      <td>0.077083</td>\n",
       "      <td>0.079167</td>\n",
       "      <td>0.084375</td>\n",
       "      <td>0.082813</td>\n",
       "      <td>0.077083</td>\n",
       "      <td>0.070833</td>\n",
       "      <td>0.073958</td>\n",
       "      <td>0.075521</td>\n",
       "      <td>0.075000</td>\n",
       "      <td>0.075260</td>\n",
       "      <td>0.076563</td>\n",
       "      <td>0.079167</td>\n",
       "      <td>0.075000</td>\n",
       "      <td>0.069792</td>\n",
       "      <td>0.071354</td>\n",
       "    </tr>\n",
       "  </tbody>\n",
       "</table>\n",
       "</div>"
      ],
      "text/plain": [
       "               Close  Close_t-1  Close_t-2  Close_t-3  Close_t-4  Close_t-5  \\\n",
       "Date                                                                          \n",
       "1997-06-05  0.077083   0.070833   0.073958   0.075521   0.075000   0.075260   \n",
       "1997-06-06  0.082813   0.077083   0.070833   0.073958   0.075521   0.075000   \n",
       "1997-06-09  0.084375   0.082813   0.077083   0.070833   0.073958   0.075521   \n",
       "1997-06-10  0.079167   0.084375   0.082813   0.077083   0.070833   0.073958   \n",
       "1997-06-11  0.077083   0.079167   0.084375   0.082813   0.077083   0.070833   \n",
       "\n",
       "            Close_t-6  Close_t-7  Close_t-8  Close_t-9  Close_t-10  \\\n",
       "Date                                                                 \n",
       "1997-06-05   0.076563   0.079167   0.075000   0.069792    0.071354   \n",
       "1997-06-06   0.075260   0.076563   0.079167   0.075000    0.069792   \n",
       "1997-06-09   0.075000   0.075260   0.076563   0.079167    0.075000   \n",
       "1997-06-10   0.075521   0.075000   0.075260   0.076563    0.079167   \n",
       "1997-06-11   0.073958   0.075521   0.075000   0.075260    0.076563   \n",
       "\n",
       "            Close_t-11  Close_t-12  Close_t-13  Close_t-14  \n",
       "Date                                                        \n",
       "1997-06-05    0.081771    0.085417    0.086458    0.097917  \n",
       "1997-06-06    0.071354    0.081771    0.085417    0.086458  \n",
       "1997-06-09    0.069792    0.071354    0.081771    0.085417  \n",
       "1997-06-10    0.075000    0.069792    0.071354    0.081771  \n",
       "1997-06-11    0.079167    0.075000    0.069792    0.071354  "
      ]
     },
     "execution_count": 711,
     "metadata": {},
     "output_type": "execute_result"
    }
   ],
   "source": [
    "\n",
    "def modifiy_data_for_lstm(df, lookback):\n",
    "    df = dc(df)\n",
    "    for i in range(1, lookback+1):\n",
    "        df[f'Close_t-{i}'] = df['Close'].shift(i)\n",
    "        # df[f'Close_t-{lookback+1 - i}'] = df[f'Close'].shift(lookback+1 - i)\n",
    "    df.dropna(inplace=True)\n",
    "\n",
    "    return df\n",
    "\n",
    "lookback = 14\n",
    "data_lstm = modifiy_data_for_lstm(data, lookback)\n",
    "data_lstm.head()"
   ]
  },
  {
   "cell_type": "code",
   "execution_count": 712,
   "metadata": {},
   "outputs": [
    {
     "data": {
      "text/plain": [
       "array([[7.70829991e-02, 7.08329976e-02, 7.39580020e-02, ...,\n",
       "        8.54170024e-02, 8.64579976e-02, 9.79169980e-02],\n",
       "       [8.28130022e-02, 7.70829991e-02, 7.08329976e-02, ...,\n",
       "        8.17710012e-02, 8.54170024e-02, 8.64579976e-02],\n",
       "       [8.43750015e-02, 8.28130022e-02, 7.70829991e-02, ...,\n",
       "        7.13540018e-02, 8.17710012e-02, 8.54170024e-02],\n",
       "       ...,\n",
       "       [1.62770004e+02, 1.61929993e+02, 1.61020004e+02, ...,\n",
       "        1.82550003e+02, 1.83130005e+02, 1.83750000e+02],\n",
       "       [1.65800003e+02, 1.62770004e+02, 1.61929993e+02, ...,\n",
       "        1.86410004e+02, 1.82550003e+02, 1.83130005e+02],\n",
       "       [1.66940002e+02, 1.65800003e+02, 1.62770004e+02, ...,\n",
       "        1.80830002e+02, 1.86410004e+02, 1.82550003e+02]])"
      ]
     },
     "execution_count": 712,
     "metadata": {},
     "output_type": "execute_result"
    }
   ],
   "source": [
    "data_lstm_np = data_lstm.to_numpy()\n",
    "data_lstm_np"
   ]
  },
  {
   "cell_type": "markdown",
   "metadata": {},
   "source": [
    "### Scale the data for even information"
   ]
  },
  {
   "cell_type": "code",
   "execution_count": 713,
   "metadata": {},
   "outputs": [
    {
     "data": {
      "text/plain": [
       "array([[-0.99997395, -1.        , -0.99996874, ..., -0.9998437 ,\n",
       "        -0.99983328, -0.99971865],\n",
       "       [-0.99991663, -0.99993748, -1.        , ..., -0.99988017,\n",
       "        -0.9998437 , -0.99983328],\n",
       "       [-0.999901  , -0.99988016, -0.99993748, ..., -0.99998437,\n",
       "        -0.99988017, -0.9998437 ],\n",
       "       ...,\n",
       "       [ 0.62756135,  0.61916505,  0.61006194, ...,  0.82543912,\n",
       "         0.83124116,  0.83744327],\n",
       "       [ 0.65787262,  0.62756814,  0.61916505, ...,  0.8640526 ,\n",
       "         0.82543912,  0.83124116],\n",
       "       [ 0.66927686,  0.65787886,  0.62756814, ...,  0.8082331 ,\n",
       "         0.8640526 ,  0.82543912]])"
      ]
     },
     "execution_count": 713,
     "metadata": {},
     "output_type": "execute_result"
    }
   ],
   "source": [
    "scaler = MinMaxScaler(feature_range=(-1, 1))\n",
    "data_lstm_scaled = scaler.fit_transform(data_lstm_np)\n",
    "\n",
    "data_lstm_scaled"
   ]
  },
  {
   "cell_type": "markdown",
   "metadata": {},
   "source": [
    "### Split to train and test sets"
   ]
  },
  {
   "cell_type": "code",
   "execution_count": 714,
   "metadata": {},
   "outputs": [
    {
     "data": {
      "text/plain": [
       "((6840, 14), (6840,))"
      ]
     },
     "execution_count": 714,
     "metadata": {},
     "output_type": "execute_result"
    }
   ],
   "source": [
    "X = data_lstm_scaled[:, 1:]\n",
    "y = data_lstm_scaled[:, 0]\n",
    "\n",
    "X.shape, y.shape"
   ]
  },
  {
   "cell_type": "code",
   "execution_count": 715,
   "metadata": {},
   "outputs": [
    {
     "data": {
      "text/plain": [
       "array([[-0.99971865, -0.99983328, -0.9998437 , ..., -0.9999531 ,\n",
       "        -0.99996874, -1.        ],\n",
       "       [-0.99983328, -0.9998437 , -0.99988017, ..., -0.99996874,\n",
       "        -1.        , -0.99993748],\n",
       "       [-0.9998437 , -0.99988017, -0.99998437, ..., -1.        ,\n",
       "        -0.99993748, -0.99988016],\n",
       "       ...,\n",
       "       [ 0.83744327,  0.83124116,  0.82543912, ...,  0.67888621,\n",
       "         0.61006194,  0.61916505],\n",
       "       [ 0.83124116,  0.82543912,  0.8640526 , ...,  0.61006194,\n",
       "         0.61916505,  0.62756814],\n",
       "       [ 0.82543912,  0.8640526 ,  0.8082331 , ...,  0.61916505,\n",
       "         0.62756814,  0.65787886]])"
      ]
     },
     "execution_count": 715,
     "metadata": {},
     "output_type": "execute_result"
    }
   ],
   "source": [
    "X = dc(np.flip(X, axis=1)) # No need to do this if you use df[f'Close_t-{lookback+1 - i}'] = df[f'Close'].shift(lookback+1 - i)\n",
    "X"
   ]
  },
  {
   "cell_type": "code",
   "execution_count": 716,
   "metadata": {},
   "outputs": [],
   "source": [
    "split_idx = int(len(X) * 0.95)\n",
    "X_train = X[:split_idx]\n",
    "X_test = X[split_idx:]\n",
    "y_train = y[:split_idx]\n",
    "y_test = y[split_idx:]\n"
   ]
  },
  {
   "cell_type": "code",
   "execution_count": 717,
   "metadata": {},
   "outputs": [
    {
     "data": {
      "text/plain": [
       "((6498, 14), (6498,), (342, 14), (342,))"
      ]
     },
     "execution_count": 717,
     "metadata": {},
     "output_type": "execute_result"
    }
   ],
   "source": [
    "X_train.shape, y_train.shape, X_test.shape, y_test.shape"
   ]
  },
  {
   "cell_type": "markdown",
   "metadata": {},
   "source": [
    "### Prepare data for PyTorch usuage by adding another dimension to the data shape"
   ]
  },
  {
   "cell_type": "code",
   "execution_count": 718,
   "metadata": {},
   "outputs": [
    {
     "data": {
      "text/plain": [
       "((6498, 14, 1), (6498, 1), (342, 14, 1), (342, 1))"
      ]
     },
     "execution_count": 718,
     "metadata": {},
     "output_type": "execute_result"
    }
   ],
   "source": [
    "X_train = X_train.reshape(-1, lookback, 1)\n",
    "X_test = X_test.reshape(-1, lookback, 1)\n",
    "y_train = y_train.reshape(-1, 1)\n",
    "y_test = y_test.reshape(-1, 1)\n",
    "\n",
    "X_train.shape, y_train.shape, X_test.shape, y_test.shape\n"
   ]
  },
  {
   "cell_type": "code",
   "execution_count": 719,
   "metadata": {},
   "outputs": [
    {
     "data": {
      "text/plain": [
       "(torch.Size([6498, 14, 1]),\n",
       " torch.Size([6498, 1]),\n",
       " torch.Size([342, 14, 1]),\n",
       " torch.Size([342, 1]))"
      ]
     },
     "execution_count": 719,
     "metadata": {},
     "output_type": "execute_result"
    }
   ],
   "source": [
    "# Create tensors from numpy arrays\n",
    "X_train = torch.tensor(X_train).float()\n",
    "X_test = torch.tensor(X_test).float()\n",
    "y_train = torch.tensor(y_train).float()\n",
    "y_test = torch.tensor(y_test).float()\n",
    "\n",
    "X_train.shape, y_train.shape, X_test.shape, y_test.shape"
   ]
  },
  {
   "cell_type": "code",
   "execution_count": 720,
   "metadata": {},
   "outputs": [],
   "source": [
    "# Wrap in tensors using pytorch datasets\n",
    "\n",
    "class TimeSeriesDataset(Dataset):\n",
    "    def __init__(self, X, y):\n",
    "        self.X = X\n",
    "        self.y = y\n",
    "\n",
    "    def __len__(self):\n",
    "        return len(self.X)\n",
    "    \n",
    "    def __getitem__(self, index):\n",
    "        return self.X[index], self.y[index]\n",
    "\n",
    "train_dataset = TimeSeriesDataset(X_train, y_train)\n",
    "test_dataset = TimeSeriesDataset(X_test, y_test)"
   ]
  },
  {
   "cell_type": "code",
   "execution_count": 721,
   "metadata": {},
   "outputs": [],
   "source": [
    "# Batch the data using DataLoader\n",
    "batch_size = 16\n",
    "train_loader = DataLoader(train_dataset, batch_size=batch_size, shuffle=True)\n",
    "test_loader = DataLoader(test_dataset, batch_size=batch_size, shuffle=False)"
   ]
  },
  {
   "cell_type": "code",
   "execution_count": 722,
   "metadata": {},
   "outputs": [
    {
     "name": "stdout",
     "output_type": "stream",
     "text": [
      "torch.Size([16, 14, 1]) torch.Size([16, 1])\n"
     ]
    }
   ],
   "source": [
    "for _, batch in enumerate(train_loader):\n",
    "    x_batch, y_batch = batch[0].to(device), batch[1].to(device)\n",
    "    print(x_batch.shape, y_batch.shape)\n",
    "    break"
   ]
  },
  {
   "cell_type": "markdown",
   "metadata": {},
   "source": [
    "### Define the LSTM model"
   ]
  },
  {
   "cell_type": "code",
   "execution_count": 723,
   "metadata": {},
   "outputs": [
    {
     "data": {
      "text/plain": [
       "LSTM(\n",
       "  (lstm): LSTM(1, 4, batch_first=True)\n",
       "  (fc): Linear(in_features=4, out_features=1, bias=True)\n",
       ")"
      ]
     },
     "execution_count": 723,
     "metadata": {},
     "output_type": "execute_result"
    }
   ],
   "source": [
    "class LSTM(nn.Module):\n",
    "    def __init__(self,input_size, hidden_layer, num_stacked_layers):\n",
    "        super().__init__()\n",
    "        self.hidden_layer = hidden_layer\n",
    "        self.num_stacked_layers = num_stacked_layers\n",
    "        self.lstm = nn.LSTM(input_size, hidden_layer, num_stacked_layers, batch_first=True)\n",
    "        self.fc = nn.Linear(hidden_layer, 1)\n",
    "\n",
    "    def forward(self, x):\n",
    "        batch_size = x.size(0)\n",
    "        h0 = torch.zeros(self.num_stacked_layers, batch_size, self.hidden_layer).to(device)\n",
    "        c0 = torch.zeros(self.num_stacked_layers, batch_size, self.hidden_layer).to(device)\n",
    "        out, _ = self.lstm(x, (h0, c0))\n",
    "        out = self.fc(out[:, -1, :])\n",
    "\n",
    "        return out\n",
    "    \n",
    "input_size = 1\n",
    "hidden_layer = 4\n",
    "num_stacked_layers = 1\n",
    "\n",
    "model = LSTM(input_size, hidden_layer, num_stacked_layers).to(device)\n",
    "model"
   ]
  },
  {
   "cell_type": "markdown",
   "metadata": {},
   "source": [
    "### Define the training function"
   ]
  },
  {
   "cell_type": "code",
   "execution_count": 724,
   "metadata": {},
   "outputs": [],
   "source": [
    "learning_rate = 0.001\n",
    "num_epochs = 10\n",
    "criterion = nn.MSELoss()\n",
    "optimizer = torch.optim.Adam(model.parameters(), lr=learning_rate)"
   ]
  },
  {
   "cell_type": "code",
   "execution_count": 725,
   "metadata": {},
   "outputs": [],
   "source": [
    "def train_one_epoch():\n",
    "    model.train()\n",
    "    training_loss = 0\n",
    "\n",
    "    for idx, batch in enumerate(train_loader):\n",
    "        x_batch, y_batch = batch[0].to(device), batch[1].to(device)\n",
    "\n",
    "        optimizer.zero_grad()\n",
    "        y_pred = model(x_batch)\n",
    "        loss = criterion(y_pred, y_batch)\n",
    "        loss.backward()\n",
    "        optimizer.step()\n",
    "\n",
    "        training_loss += loss.item()\n",
    "\n",
    "        if idx % 100 == 0:\n",
    "            avg_across_batches = training_loss / (idx + 1)\n",
    "            print(f'Batch: {idx} Loss: {avg_across_batches:.3f}')\n",
    "           \n",
    "\n",
    "            training_loss = 0\n",
    "    print()"
   ]
  },
  {
   "cell_type": "code",
   "execution_count": 726,
   "metadata": {},
   "outputs": [],
   "source": [
    "def evaluate_one_epoch():\n",
    "    model.eval()\n",
    "    evaluation_loss = 0\n",
    "\n",
    "    with torch.no_grad():\n",
    "        for idx, batch in enumerate(test_loader):\n",
    "            x_batch, y_batch = batch[0].to(device), batch[1].to(device)\n",
    "\n",
    "            y_pred = model(x_batch)\n",
    "            loss = criterion(y_pred, y_batch)\n",
    "\n",
    "            evaluation_loss += loss.item()\n",
    "\n",
    "    avg_evaluation_loss = evaluation_loss / len(test_loader)\n",
    "\n",
    "    print(f'Evaluation Loss: {avg_evaluation_loss:.3f}')\n",
    "    print('**********************************')\n",
    "    print()\n",
    "\n",
    "    return avg_evaluation_loss"
   ]
  },
  {
   "cell_type": "code",
   "execution_count": 727,
   "metadata": {},
   "outputs": [
    {
     "name": "stdout",
     "output_type": "stream",
     "text": [
      "Epoch: 1/10\n",
      "Batch: 0 Loss: 0.277\n",
      "Batch: 100 Loss: 0.172\n",
      "Batch: 200 Loss: 0.036\n",
      "Batch: 300 Loss: 0.008\n",
      "Batch: 400 Loss: 0.002\n",
      "\n",
      "Evaluation Loss: 0.077\n",
      "**********************************\n",
      "\n",
      "Epoch: 2/10\n",
      "Batch: 0 Loss: 0.001\n",
      "Batch: 100 Loss: 0.005\n",
      "Batch: 200 Loss: 0.001\n",
      "Batch: 300 Loss: 0.000\n",
      "Batch: 400 Loss: 0.000\n",
      "\n",
      "Evaluation Loss: 0.010\n",
      "**********************************\n",
      "\n",
      "Epoch: 3/10\n",
      "Batch: 0 Loss: 0.000\n",
      "Batch: 100 Loss: 0.001\n",
      "Batch: 200 Loss: 0.000\n",
      "Batch: 300 Loss: 0.000\n",
      "Batch: 400 Loss: 0.000\n",
      "\n",
      "Evaluation Loss: 0.006\n",
      "**********************************\n",
      "\n",
      "Epoch: 4/10\n",
      "Batch: 0 Loss: 0.000\n",
      "Batch: 100 Loss: 0.000\n",
      "Batch: 200 Loss: 0.000\n",
      "Batch: 300 Loss: 0.000\n",
      "Batch: 400 Loss: 0.000\n",
      "\n",
      "Evaluation Loss: 0.004\n",
      "**********************************\n",
      "\n",
      "Epoch: 5/10\n",
      "Batch: 0 Loss: 0.000\n",
      "Batch: 100 Loss: 0.000\n",
      "Batch: 200 Loss: 0.000\n",
      "Batch: 300 Loss: 0.000\n",
      "Batch: 400 Loss: 0.000\n",
      "\n",
      "Evaluation Loss: 0.003\n",
      "**********************************\n",
      "\n",
      "Epoch: 6/10\n",
      "Batch: 0 Loss: 0.001\n",
      "Batch: 100 Loss: 0.000\n",
      "Batch: 200 Loss: 0.000\n",
      "Batch: 300 Loss: 0.000\n",
      "Batch: 400 Loss: 0.000\n",
      "\n",
      "Evaluation Loss: 0.003\n",
      "**********************************\n",
      "\n",
      "Epoch: 7/10\n",
      "Batch: 0 Loss: 0.000\n",
      "Batch: 100 Loss: 0.000\n",
      "Batch: 200 Loss: 0.000\n",
      "Batch: 300 Loss: 0.000\n",
      "Batch: 400 Loss: 0.000\n",
      "\n",
      "Evaluation Loss: 0.002\n",
      "**********************************\n",
      "\n",
      "Epoch: 8/10\n",
      "Batch: 0 Loss: 0.000\n",
      "Batch: 100 Loss: 0.000\n",
      "Batch: 200 Loss: 0.000\n",
      "Batch: 300 Loss: 0.000\n",
      "Batch: 400 Loss: 0.000\n",
      "\n",
      "Evaluation Loss: 0.002\n",
      "**********************************\n",
      "\n",
      "Epoch: 9/10\n",
      "Batch: 0 Loss: 0.000\n",
      "Batch: 100 Loss: 0.000\n",
      "Batch: 200 Loss: 0.000\n",
      "Batch: 300 Loss: 0.000\n",
      "Batch: 400 Loss: 0.000\n",
      "\n",
      "Evaluation Loss: 0.003\n",
      "**********************************\n",
      "\n",
      "Epoch: 10/10\n",
      "Batch: 0 Loss: 0.000\n",
      "Batch: 100 Loss: 0.000\n",
      "Batch: 200 Loss: 0.000\n",
      "Batch: 300 Loss: 0.000\n",
      "Batch: 400 Loss: 0.000\n",
      "\n",
      "Evaluation Loss: 0.002\n",
      "**********************************\n",
      "\n",
      "Training completed\n"
     ]
    }
   ],
   "source": [
    "# Start training\n",
    "best_loss = np.inf\n",
    "best_model = None\n",
    "\n",
    "for epoch in range(num_epochs):\n",
    "    print(f'Epoch: {epoch+1}/{num_epochs}')\n",
    "    train_one_epoch()\n",
    "    evaluation_loss = evaluate_one_epoch()\n",
    "\n",
    "    if evaluation_loss < best_loss:\n",
    "        best_loss = evaluation_loss\n",
    "        best_model = dc(model)\n",
    "\n",
    "print('Training completed')\n",
    "\n"
   ]
  },
  {
   "cell_type": "code",
   "execution_count": 728,
   "metadata": {},
   "outputs": [
    {
     "data": {
      "image/png": "[encoded data removed]",
      "text/plain": [
       "<Figure size 1200x600 with 1 Axes>"
      ]
     },
     "metadata": {},
     "output_type": "display_data"
    }
   ],
   "source": [
    "# Prediction for training data\n",
    "best_model.eval()\n",
    "with torch.no_grad():\n",
    "    # y_pred = best_model(torch.tensor(X_train).float().to(device))\n",
    "    y_pred = best_model(X_train.clone().detach())\n",
    "    y_pred = y_pred.cpu().numpy()\n",
    "\n",
    "\n",
    "train_pred = y_pred.flatten()\n",
    "\n",
    "dummies = np.zeros((X_train.shape[0], lookback+1))\n",
    "dummies[:, 0] = train_pred\n",
    "dummies = scaler.inverse_transform(dummies)\n",
    "\n",
    "train_pred = dc(dummies[:, 0])\n",
    "train_pred\n",
    "\n",
    "dummies2 = np.zeros((X_train.shape[0], lookback+1))\n",
    "dummies2[:, 0] = y_train.flatten()\n",
    "dummies2 = scaler.inverse_transform(dummies2)\n",
    "\n",
    "y_train_inverse = dc(dummies2[:, 0])\n",
    "\n",
    "\n",
    "# Reverse the date to its original form\n",
    "\n",
    "date = data_lstm.index\n",
    "date_train = date[:split_idx]\n",
    "\n",
    "# Plot the prediction and actual close price uisng the actual date\n",
    "plt.figure(figsize=(12,6))\n",
    "plt.title('Amazon stock price')\n",
    "plt.xlabel('Date')\n",
    "plt.ylabel('Close Price')\n",
    "plt.plot(date_train, y_train_inverse, label='Actual Close Price')\n",
    "plt.plot(date_train, train_pred, label='Prediction')\n",
    "plt.legend()\n",
    "plt.show()"
   ]
  },
  {
   "cell_type": "code",
   "execution_count": 730,
   "metadata": {},
   "outputs": [
    {
     "data": {
      "image/png": "[encoded data removed]",
      "text/plain": [
       "<Figure size 1200x600 with 1 Axes>"
      ]
     },
     "metadata": {},
     "output_type": "display_data"
    }
   ],
   "source": [
    "# Prediction for test data\n",
    "best_model.eval()\n",
    "with torch.no_grad():\n",
    "    y_pred = best_model(X_test.clone().detach())\n",
    "    y_pred = y_pred.cpu().numpy()\n",
    "\n",
    "test_pred = y_pred.flatten()\n",
    "\n",
    "\n",
    "dummies = np.zeros((X_test.shape[0], lookback+1))\n",
    "dummies[:, 0] = test_pred\n",
    "dummies = scaler.inverse_transform(dummies)\n",
    "\n",
    "test_pred = dc(dummies[:, 0])\n",
    "\n",
    "dummies2 = np.zeros((X_test.shape[0], lookback+1))\n",
    "dummies2[:, 0] = y_test.flatten()\n",
    "dummies2 = scaler.inverse_transform(dummies2)\n",
    "\n",
    "y_test_inverse = dc(dummies2[:, 0])\n",
    "\n",
    "# Reverse the date to its original form\n",
    "date_test = date[split_idx:]\n",
    "\n",
    "# Plot the prediction and actual close price uisng the actual date\n",
    "plt.figure(figsize=(12,6))\n",
    "plt.title('Amazon stock price')\n",
    "plt.xlabel('Date')\n",
    "plt.ylabel('Close Price')\n",
    "plt.plot(date_test, y_test_inverse, label='Actual Close Price')\n",
    "plt.plot(date_test, test_pred, label='Prediction')\n",
    "plt.hlines(y=test_pred[-1], xmin=date_test[0], xmax=date_test[-1], color='r', linestyles='--', label='Mean Prediction')\n",
    "plt.text(date_test[-1], test_pred[-1], f'{test_pred[-1]:.2f}', va='center', ha='left',fontdict={'color':'navy', 'fontsize':8} )\n",
    "plt.text(date_test[-1], y_test_inverse[-1], f'{y_test_inverse[-1]:.2f}', va='center', ha='left',fontdict={'color':'navy', 'fontsize':8})\n",
    "plt.legend()\n",
    "plt.show()\n"
   ]
  },
  {
   "cell_type": "code",
   "execution_count": 734,
   "metadata": {},
   "outputs": [],
   "source": [
    "# Save the best model and scaler\n",
    "torch.save(scaler, 'scaler.pth')\n",
    "torch.save(best_model, 'best_model.pth')"
   ]
  },
  {
   "cell_type": "code",
   "execution_count": 702,
   "metadata": {},
   "outputs": [],
   "source": [
    "test_data = data[-lookback*2:]\n",
    "test_data.to_csv('test_data.csv')\n"
   ]
  }
 ],
 "metadata": {
  "kernelspec": {
   "display_name": "venv",
   "language": "python",
   "name": "python3"
  },
  "language_info": {
   "codemirror_mode": {
    "name": "ipython",
    "version": 3
   },
   "file_extension": ".py",
   "mimetype": "text/x-python",
   "name": "python",
   "nbconvert_exporter": "python",
   "pygments_lexer": "ipython3",
   "version": "3.11.7"
  }
 },
 "nbformat": 4,
 "nbformat_minor": 2
}
